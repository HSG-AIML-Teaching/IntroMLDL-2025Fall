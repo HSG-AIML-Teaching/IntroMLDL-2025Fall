{
    "cells": [
        {
            "cell_type": "markdown",
            "metadata": {},
            "source": [
                "<img align='center' style='max-width: 1000px' src='../assets/banner.png'>"
            ]
        },
        {
            "cell_type": "markdown",
            "metadata": {},
            "source": [
                "<img align=\"right\" style=\"max-width: 200px; height: auto\" src=\"https://raw.githubusercontent.com/HSG-AIML-Teaching/IntroMLDL-2025FS/main/assets/hsg_logo.png?raw=1\">\n",
                "\n",
                "##  Test Notebook\n",
                "\n",
                "Introduction to Machine Learning & Deep Learning, University of St. Gallen, Spring Term 2025"
            ]
        },
        {
            "cell_type": "markdown",
            "metadata": {},
            "source": [
                "We will utilize Jupyter Notebooks like this in our coding labs. The purpose of this specific Notebook is to test whether you can run Notebooks properly in Google Colab or Binder. This will only take one minute of your time.\n",
                "\n",
                "Please run the following \"code cell\" below by clicking on the cell and hitting the \"play\" button that appears next to the cell or at the top of the screen (this depends on which environment you are using). Alternatively, you can also hit the key combination `shift` + `enter` after clicking on the cell.\n",
                "\n",
                "This will execute the code cell and print the result of this highly complicated mathematical equation. If the result is correct, you are ready to go for our lab exercises!\n"
            ]
        },
        {
            "cell_type": "code",
            "execution_count": null,
            "metadata": {},
            "outputs": [],
            "source": [
                "42 + 2"
            ]
        }
    ],
    "metadata": {
        "kernelspec": {
            "display_name": "Python 3 (ipykernel)",
            "language": "python",
            "name": "python3"
        },
        "language_info": {
            "codemirror_mode": {
                "name": "ipython",
                "version": 3
            },
            "file_extension": ".py",
            "mimetype": "text/x-python",
            "name": "python",
            "nbconvert_exporter": "python",
            "pygments_lexer": "ipython3",
            "version": "3.9.5"
        },
        "toc": {
            "base_numbering": 1,
            "nav_menu": {},
            "number_sections": false,
            "sideBar": true,
            "skip_h1_title": false,
            "title_cell": "Table of Contents",
            "title_sidebar": "Contents",
            "toc_cell": false,
            "toc_position": {},
            "toc_section_display": true,
            "toc_window_display": false
        }
    },
    "nbformat": 4,
    "nbformat_minor": 4
}
