{
    "cells": [
        {
            "cell_type": "markdown",
            "metadata": {},
            "source": [
                "<img align='center' style='max-width: 1000px' src='../assets/banner.png'>"
            ]
        },
        {
            "cell_type": "markdown",
            "metadata": {},
            "source": [
                "##  Exercise 1 - \"Python 101: Jupyter Notebooks and Python Basics\"\n",
                "\n",
                "Introduction to Machine Learning & Deep Learning, University of St. Gallen, Spring Term 2025"
            ]
        },
        {
            "cell_type": "markdown",
            "metadata": {},
            "source": [
                "\n",
                "The goal of the exercises below is to deepen your understanding of the Python language. In this Notebook, exercises are focused on our Python 101 Notebook. Feel free to use that Notebook as a reference, to search for help online, and to work together with others. If you have questions, please feel free to shout out!\n",
                "\n",
                "Please work on these exercises during the corresponding exercise session. We expect you to solve the **three mandatory exercises**, which are highlighted. All other exercises are optional and are not required to be solved!   "
            ]
        },
        {
            "cell_type": "markdown",
            "metadata": {
                "id": "-5omx0uRAhsA"
            },
            "source": [
                "## Basic Data Types"
            ]
        },
        {
            "cell_type": "markdown",
            "metadata": {
                "id": "DQz2SFrMAhsA"
            },
            "source": [
                "**1. MANDATORY: Compare the first and last character of a string.**\n",
                "\n",
                "> Write a set of Python commands that compares the first and last character of the same string. In case both characters are the same ouput `True`, otherwise `False`. Test your statements on the strings `s1` and `s2` as defined below."
            ]
        },
        {
            "cell_type": "code",
            "execution_count": 12,
            "metadata": {
                "id": "jbjp549OAhsB"
            },
            "outputs": [],
            "source": [
                "s1 = 'apple'\n",
                "s2 = 'sweets'\n",
                "\n",
                "# ***************************************************\n",
                "# INSERT YOUR SOLUTION CODE HERE\n",
                "# ***************************************************"
            ]
        },
        {
            "cell_type": "markdown",
            "metadata": {
                "id": "a-1ER6uJAhsB"
            },
            "source": [
                "**2. Converting Celsius temperatures to Fahrenheit temperatures.**\n",
                "\n",
                "> Write a Python command that converts temperatures measured in units of degrees Celsius into degrees Fahrenheit. To do the conversion, you have to first multiply the temperature in degrees Celsius with 9/5 and then add 32 to the result of the product. Based on your computation, what does 16 degree Celsius translate into?"
            ]
        },
        {
            "cell_type": "code",
            "execution_count": 11,
            "metadata": {
                "id": "AjCBoIfjAhsB"
            },
            "outputs": [],
            "source": [
                "T_C = 16\n",
                "\n",
                "# ***************************************************\n",
                "# INSERT YOUR SOLUTION CODE HERE\n",
                "# ***************************************************"
            ]
        },
        {
            "cell_type": "markdown",
            "metadata": {
                "id": "eRfRyxG6AhsB"
            },
            "source": [
                "**3. Data engineering with strings.**\n",
                "\n",
                "> Imagine you read data as strings from a file. The data is tabular and the individual columns are separated by commas. How would you dissect the string (`s` as defined below) into individual fields?"
            ]
        },
        {
            "cell_type": "code",
            "execution_count": null,
            "metadata": {
                "id": "ZQUYxlXYAhsB"
            },
            "outputs": [],
            "source": [
                "s = 'St._Gallen,45,Schweiz,12,89%'\n",
                "\n",
                "# ***************************************************\n",
                "# INSERT YOUR SOLUTION CODE HERE\n",
                "# ***************************************************\n"
            ]
        },
        {
            "cell_type": "markdown",
            "metadata": {
                "id": "ohwxx6eHAhsG"
            },
            "source": [
                "## Data Containers"
            ]
        },
        {
            "cell_type": "markdown",
            "metadata": {
                "id": "WlFZF2pAAhsG"
            },
            "source": [
                "**1. MANDATORY: Replacing data.**\n",
                "\n",
                "> Replace that element in list `l` that has the lowest value with value `-99`."
            ]
        },
        {
            "cell_type": "code",
            "execution_count": 10,
            "metadata": {
                "id": "tQeAxFjrAhsG"
            },
            "outputs": [],
            "source": [
                "l = [124, 99, -3.14, 23, -10]\n",
                "\n",
                "# ***************************************************\n",
                "# INSERT YOUR SOLUTION CODE HERE\n",
                "# ***************************************************"
            ]
        },
        {
            "cell_type": "markdown",
            "metadata": {
                "id": "V4DbzkdNAhsG"
            },
            "source": [
                "**2. Comparing list elements.**\n",
                "\n",
                "> Write a set of Python commands that compares the first and last elements of a list. In case both elements are identical output `True`, otherwise `False`. Test your statements on lists `l1` and `l2` as defined below."
            ]
        },
        {
            "cell_type": "code",
            "execution_count": 9,
            "metadata": {
                "id": "p522kJaIAhsG"
            },
            "outputs": [],
            "source": [
                "l1 = ['BROOMSTICK', 'ghostly', 'mYstEriOUs', 'BROOMSTICK']\n",
                "l2 = ['darkness', 'king', 'fairy', 'owl']\n",
                "\n",
                "# ***************************************************\n",
                "# INSERT YOUR SOLUTION CODE HERE\n",
                "# ***************************************************"
            ]
        },
        {
            "cell_type": "markdown",
            "metadata": {
                "id": "zivjjJ5wAhsG"
            },
            "source": [
                "**3. Extracting list elements.**\n",
                "\n",
                "> Extract the 1st, 4th and 6th element of list `l` and store them in a list called `l2`."
            ]
        },
        {
            "cell_type": "code",
            "execution_count": 8,
            "metadata": {
                "id": "nasnMpv0AhsG"
            },
            "outputs": [],
            "source": [
                "l = ['BROOMSTICK', 'Happy', 'mYstEriOUs', 'BROOMSTICK', 'Halloween', 'Poltergeist']\n",
                "\n",
                "# ***************************************************\n",
                "# INSERT YOUR SOLUTION CODE HERE\n",
                "# ***************************************************"
            ]
        },
        {
            "cell_type": "markdown",
            "metadata": {
                "id": "jWmS6obEAhsL"
            },
            "source": [
                "## Fundamental Programming Structures"
            ]
        },
        {
            "cell_type": "markdown",
            "metadata": {
                "id": "ray7ID4qAhsL"
            },
            "source": [
                "**1. MANDATORY: Modifying lists in a loop.**\n",
                "\n",
                "> Write a Python loop that multiplies all elements of list `l` with `66`. The output should be equal to: `[0, 66, 132, 198, 264, 330, 396, 462, 528, 594]`."
            ]
        },
        {
            "cell_type": "code",
            "execution_count": 2,
            "metadata": {
                "id": "iMayg5s5AhsL"
            },
            "outputs": [],
            "source": [
                "l = list(range(10))\n",
                "\n",
                "# ***************************************************\n",
                "# INSERT YOUR SOLUTION CODE HERE\n",
                "# ***************************************************"
            ]
        },
        {
            "cell_type": "markdown",
            "metadata": {
                "id": "tB019NXuAhsL"
            },
            "source": [
                "**2. Reverse a list.**\n",
                "\n",
                "> How would you reverse the elements in list `l`? The output should print the following: `10, 9, 8, 7, 6, 5, 4, 3, 2, 1, 0`."
            ]
        },
        {
            "cell_type": "code",
            "execution_count": 3,
            "metadata": {
                "id": "1D7IJEGjAhsL"
            },
            "outputs": [],
            "source": [
                "l = list(range(11))\n",
                "\n",
                "# ***************************************************\n",
                "# INSERT YOUR SOLUTION CODE HERE\n",
                "# ***************************************************"
            ]
        },
        {
            "cell_type": "markdown",
            "metadata": {
                "id": "kZ3hue_mAhsM"
            },
            "source": [
                "**3. Masking numbers**\n",
                "\n",
                "> Write an `if` statement that prints the value of `number` on the screen unless its value is 4 or 7. If `number` equals 4 or 7 it should print 'forbidden number'."
            ]
        },
        {
            "cell_type": "code",
            "execution_count": 4,
            "metadata": {
                "id": "warjcIleAhsM"
            },
            "outputs": [],
            "source": [
                "number = 5\n",
                "\n",
                "# ***************************************************\n",
                "# INSERT YOUR SOLUTION CODE HERE\n",
                "# ***************************************************"
            ]
        },
        {
            "cell_type": "markdown",
            "metadata": {
                "id": "ZfyDnbbSAhsN"
            },
            "source": [
                "## Functions"
            ]
        },
        {
            "cell_type": "markdown",
            "metadata": {
                "id": "IAiJdiumAhsN"
            },
            "source": [
                "**1. MANDATORY: Measuring the length of a string.**\n",
                "\n",
                ">Write a Python function named **\"string_length\"** to derive the length of an arbitrary string. The function should take an arbitrary string as input, count the number of its characters and return it. Test your function with strings `s` (expected result: 9)."
            ]
        },
        {
            "cell_type": "code",
            "execution_count": 5,
            "metadata": {
                "id": "PGLED_L4AhsN"
            },
            "outputs": [],
            "source": [
                "s = 'Halloween'\n",
                "\n",
                "# ***************************************************\n",
                "# INSERT YOUR SOLUTION CODE HERE\n",
                "# ***************************************************"
            ]
        },
        {
            "cell_type": "markdown",
            "metadata": {
                "id": "OzCZMOjcAhsN"
            },
            "source": [
                "**2. Finding the maximum value.**\n",
                "\n",
                ">Write a Python function named **\"max_num_in_list\"** to get the largest number from a list. The function should take an arbitrary list of integer values as an input and should return that integer value that corresponds to the highest value. Test your function using list `l` (expected result: 8)."
            ]
        },
        {
            "cell_type": "code",
            "execution_count": 6,
            "metadata": {
                "id": "DoeLXe7VAhsN"
            },
            "outputs": [],
            "source": [
                "l = [1, 5, 8, 3]\n",
                "\n",
                "# ***************************************************\n",
                "# INSERT YOUR SOLUTION CODE HERE\n",
                "# ***************************************************"
            ]
        },
        {
            "cell_type": "markdown",
            "metadata": {
                "id": "uJTHxzw5AhsN"
            },
            "source": [
                "**3. Counting characters.**\n",
                "\n",
                ">Write a Python function named **\"char_frequency\"** to count the number of distinct characters occurring in a string. The function should take an arbitrary string as an input and should return the frequency of each individual character in a dictionary. Test your function with string `s`; how many `m`s are in `s`? (expected result: 6) "
            ]
        },
        {
            "cell_type": "code",
            "execution_count": 7,
            "metadata": {
                "id": "4en4UDL-AhsN"
            },
            "outputs": [],
            "source": [
                "s = 'In Ulm, um Ulm und um Ulm herum.'\n",
                "\n",
                "# ***************************************************\n",
                "# INSERT YOUR SOLUTION CODE HERE\n",
                "# ***************************************************"
            ]
        },
        {
            "cell_type": "code",
            "execution_count": null,
            "metadata": {},
            "outputs": [],
            "source": []
        }
    ],
    "metadata": {
        "kernelspec": {
            "display_name": "Python 3 (ipykernel)",
            "language": "python",
            "name": "python3"
        },
        "language_info": {
            "codemirror_mode": {
                "name": "ipython",
                "version": 3
            },
            "file_extension": ".py",
            "mimetype": "text/x-python",
            "name": "python",
            "nbconvert_exporter": "python",
            "pygments_lexer": "ipython3",
            "version": "3.9.5"
        },
        "vscode": {
            "interpreter": {
                "hash": "8a759edab9623fec557173fc5dc3172aac588fd51e2e191f985f3e24b521fb85"
            }
        }
    },
    "nbformat": 4,
    "nbformat_minor": 4
}
