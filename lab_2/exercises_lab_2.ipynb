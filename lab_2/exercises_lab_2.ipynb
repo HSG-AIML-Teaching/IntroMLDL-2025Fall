{
    "cells": [
        {
            "cell_type": "markdown",
            "metadata": {},
            "source": [
                "<img align='center' style='max-width: 1000px' src='../assets/banner.png'>"
            ]
        },
        {
            "cell_type": "markdown",
            "metadata": {},
            "source": [
                "##  Exercise 2 - \"Python 102: Numerical Math, Plotting & Images\"\n",
                "\n",
                "Introduction to Machine Learning & Deep Learning, University of St. Gallen, Spring Term 2025"
            ]
        },
        {
            "cell_type": "markdown",
            "metadata": {},
            "source": [
                "The goal of the exercises below is to deepen your understanding of the Python language. In this Notebook, exercises are focused on our Python 102 Notebook. Feel free to use that Notebook as a reference, to search for help online, and to work together with others. If you have questions, please feel free to shout out!\n",
                "\n",
                "Please work on these exercises during the corresponding exercise session. We expect you to solve the **three mandatory exercises**, which are highlighted. All other exercises are optional and are not required to be solved! "
            ]
        },
        {
            "cell_type": "markdown",
            "metadata": {
                "id": "R0wm1bZgAhsJ"
            },
            "source": [
                "## Numpy Arrays"
            ]
        },
        {
            "cell_type": "code",
            "execution_count": 2,
            "metadata": {},
            "outputs": [],
            "source": [
                "import numpy as np  # run this cell before starting with the exercises below"
            ]
        },
        {
            "cell_type": "markdown",
            "metadata": {
                "id": "OQAm8_ZtAhsJ"
            },
            "source": [
                "**1. MANDATORY: Write a single Python command that adds `3` to every element of array `a`.**"
            ]
        },
        {
            "cell_type": "code",
            "execution_count": 3,
            "metadata": {
                "id": "gwkVym0kAhsJ"
            },
            "outputs": [],
            "source": [
                "a = np.array([1, 2, 3, 4, 5])\n",
                "\n",
                "# ***************************************************\n",
                "# INSERT YOUR SOLUTION CODE HERE\n",
                "# ***************************************************"
            ]
        },
        {
            "cell_type": "markdown",
            "metadata": {
                "id": "LZYEYTeqAhsJ"
            },
            "source": [
                "**2. MANDATORY: Write a single Python command that creates a 2d-array that looks like the following matrix:**\n",
                "\n",
                "    1 0 0 \n",
                "    0 1 0\n",
                "    0 0 1\n",
                "    \n",
                "> Hint: you can use `np.array(l)` where `l` is a list to create the matrix. What would `l` look like?"
            ]
        },
        {
            "cell_type": "code",
            "execution_count": null,
            "metadata": {
                "id": "-zLwrMQQAhsJ"
            },
            "outputs": [],
            "source": [
                "# ***************************************************\n",
                "# INSERT YOUR SOLUTION CODE HERE\n",
                "# ***************************************************"
            ]
        },
        {
            "cell_type": "markdown",
            "metadata": {},
            "source": [
                "**3. Reshape a vector into a matrix.**\n",
                "> Create a 1-dimensional array `a` with length 16 that contains the sequence of numbers (integer or floats are fine) from 1 to 16 and reshape it into a 4x4 matrix. Hint: keep in mind that the functions `np.arange` and `reshape` exist..."
            ]
        },
        {
            "cell_type": "code",
            "execution_count": null,
            "metadata": {},
            "outputs": [],
            "source": [
                "# ***************************************************\n",
                "# INSERT YOUR SOLUTION CODE HERE\n",
                "# ***************************************************"
            ]
        },
        {
            "cell_type": "markdown",
            "metadata": {},
            "source": [
                "## Dealing with Image Data"
            ]
        },
        {
            "cell_type": "code",
            "execution_count": null,
            "metadata": {},
            "outputs": [],
            "source": [
                "# run this cell before starting with the exercises below\n",
                "import matplotlib.pyplot as plt\n",
                "from PIL import Image\n",
                "from urllib.request import urlopen  \n",
                "image = np.asarray(Image.open(urlopen(\"https://upload.wikimedia.org/wikipedia/commons/thumb/0/0e/Trogenerbahn.jpg/1920px-Trogenerbahn.jpg\")))"
            ]
        },
        {
            "cell_type": "markdown",
            "metadata": {},
            "source": [
                "**1. MANDATORY: Plotting Image Data**\n",
                "\n",
                "> Display `image` using `plt.imshow`. Then, define a second image array, `crop`, that will roughly crop the tram. Keep in mind that the dimensionality of images is `[rows, columns, channels]`. Display `crop`."
            ]
        },
        {
            "cell_type": "code",
            "execution_count": null,
            "metadata": {},
            "outputs": [],
            "source": [
                "# ***************************************************\n",
                "# INSERT YOUR SOLUTION CODE HERE\n",
                "# ***************************************************"
            ]
        },
        {
            "cell_type": "markdown",
            "metadata": {},
            "source": [
                "**2. Tricky Bonus Question: Manipulating Image Data**\n",
                "\n",
                "> The tram in the image is red. Modify the image in such a way that the tram appears blue instead. Be creative! Never mind if background objects appear in unnatural colors."
            ]
        },
        {
            "cell_type": "code",
            "execution_count": null,
            "metadata": {},
            "outputs": [],
            "source": [
                "# ***************************************************\n",
                "# INSERT YOUR SOLUTION CODE HERE\n",
                "# ***************************************************"
            ]
        },
        {
            "cell_type": "code",
            "execution_count": null,
            "metadata": {},
            "outputs": [],
            "source": []
        }
    ],
    "metadata": {
        "kernelspec": {
            "display_name": "Python 3 (ipykernel)",
            "language": "python",
            "name": "python3"
        },
        "language_info": {
            "codemirror_mode": {
                "name": "ipython",
                "version": 3
            },
            "file_extension": ".py",
            "mimetype": "text/x-python",
            "name": "python",
            "nbconvert_exporter": "python",
            "pygments_lexer": "ipython3",
            "version": "3.9.5"
        },
        "vscode": {
            "interpreter": {
                "hash": "8a759edab9623fec557173fc5dc3172aac588fd51e2e191f985f3e24b521fb85"
            }
        }
    },
    "nbformat": 4,
    "nbformat_minor": 4
}
